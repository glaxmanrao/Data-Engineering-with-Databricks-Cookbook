{
 "cells": [
  {
   "cell_type": "markdown",
   "id": "d303e34b-0ebf-4f24-b1cb-be39cea040b9",
   "metadata": {},
   "source": [
    "### Reading XML data with an inferred schema"
   ]
  },
  {
   "cell_type": "code",
   "execution_count": 1,
   "id": "f6e19347",
   "metadata": {
    "tags": []
   },
   "outputs": [
    {
     "name": "stdout",
     "output_type": "stream",
     "text": [
      ":: loading settings :: url = jar:file:/usr/local/lib/python3.10/dist-packages/pyspark/jars/ivy-2.5.1.jar!/org/apache/ivy/core/settings/ivysettings.xml\n"
     ]
    },
    {
     "name": "stderr",
     "output_type": "stream",
     "text": [
      "Ivy Default Cache set to: /root/.ivy2/cache\n",
      "The jars for the packages stored in: /root/.ivy2/jars\n",
      "com.databricks#spark-xml_2.12 added as a dependency\n",
      ":: resolving dependencies :: org.apache.spark#spark-submit-parent-94f2c32c-225c-42cc-a314-6c5fede1e3b2;1.0\n",
      "\tconfs: [default]\n",
      "\tfound com.databricks#spark-xml_2.12;0.16.0 in central\n",
      "\tfound commons-io#commons-io;2.11.0 in central\n",
      "\tfound org.glassfish.jaxb#txw2;3.0.2 in central\n",
      "\tfound org.apache.ws.xmlschema#xmlschema-core;2.3.0 in central\n",
      "\tfound org.scala-lang.modules#scala-collection-compat_2.12;2.9.0 in central\n",
      "downloading https://repo1.maven.org/maven2/com/databricks/spark-xml_2.12/0.16.0/spark-xml_2.12-0.16.0.jar ...\n",
      "\t[SUCCESSFUL ] com.databricks#spark-xml_2.12;0.16.0!spark-xml_2.12.jar (260ms)\n",
      "downloading https://repo1.maven.org/maven2/commons-io/commons-io/2.11.0/commons-io-2.11.0.jar ...\n",
      "\t[SUCCESSFUL ] commons-io#commons-io;2.11.0!commons-io.jar (229ms)\n",
      "downloading https://repo1.maven.org/maven2/org/glassfish/jaxb/txw2/3.0.2/txw2-3.0.2.jar ...\n",
      "\t[SUCCESSFUL ] org.glassfish.jaxb#txw2;3.0.2!txw2.jar (90ms)\n",
      "downloading https://repo1.maven.org/maven2/org/apache/ws/xmlschema/xmlschema-core/2.3.0/xmlschema-core-2.3.0.jar ...\n",
      "\t[SUCCESSFUL ] org.apache.ws.xmlschema#xmlschema-core;2.3.0!xmlschema-core.jar(bundle) (142ms)\n",
      "downloading https://repo1.maven.org/maven2/org/scala-lang/modules/scala-collection-compat_2.12/2.9.0/scala-collection-compat_2.12-2.9.0.jar ...\n",
      "\t[SUCCESSFUL ] org.scala-lang.modules#scala-collection-compat_2.12;2.9.0!scala-collection-compat_2.12.jar (196ms)\n",
      ":: resolution report :: resolve 7950ms :: artifacts dl 954ms\n",
      "\t:: modules in use:\n",
      "\tcom.databricks#spark-xml_2.12;0.16.0 from central in [default]\n",
      "\tcommons-io#commons-io;2.11.0 from central in [default]\n",
      "\torg.apache.ws.xmlschema#xmlschema-core;2.3.0 from central in [default]\n",
      "\torg.glassfish.jaxb#txw2;3.0.2 from central in [default]\n",
      "\torg.scala-lang.modules#scala-collection-compat_2.12;2.9.0 from central in [default]\n",
      "\t---------------------------------------------------------------------\n",
      "\t|                  |            modules            ||   artifacts   |\n",
      "\t|       conf       | number| search|dwnlded|evicted|| number|dwnlded|\n",
      "\t---------------------------------------------------------------------\n",
      "\t|      default     |   5   |   5   |   5   |   0   ||   5   |   5   |\n",
      "\t---------------------------------------------------------------------\n",
      ":: retrieving :: org.apache.spark#spark-submit-parent-94f2c32c-225c-42cc-a314-6c5fede1e3b2\n",
      "\tconfs: [default]\n",
      "\t5 artifacts copied, 0 already retrieved (986kB/108ms)\n",
      "23/07/30 13:04:00 WARN NativeCodeLoader: Unable to load native-hadoop library for your platform... using builtin-java classes where applicable\n",
      "Setting default log level to \"WARN\".\n",
      "To adjust logging level use sc.setLogLevel(newLevel). For SparkR, use setLogLevel(newLevel).\n",
      "23/07/30 13:04:05 WARN Utils: Service 'SparkUI' could not bind on port 4040. Attempting port 4041.\n"
     ]
    }
   ],
   "source": [
    "from pyspark.sql import SparkSession\n",
    "from pyspark.sql.functions import *\n",
    "\n",
    "spark = (SparkSession.builder\n",
    "         .appName(\"read-xml-data\")\n",
    "         .config('spark.jars.packages', 'com.databricks:spark-xml_2.12:0.16.0')\n",
    "         .master(\"spark://spark-master:7077\")\n",
    "         .config(\"spark.executor.memory\", \"512m\")\n",
    "         .getOrCreate())\n",
    "\n",
    "spark.sparkContext.setLogLevel(\"ERROR\")"
   ]
  },
  {
   "cell_type": "code",
   "execution_count": null,
   "id": "df98ff82-9a19-4744-94ca-0d1e2050c7e4",
   "metadata": {
    "tags": []
   },
   "outputs": [
    {
     "name": "stderr",
     "output_type": "stream",
     "text": [
      "[Stage 0:>                                                          (0 + 0) / 1]\r"
     ]
    }
   ],
   "source": [
    "# Read XML file into a DataFrame\n",
    "df = (spark.read.format(\"com.databricks.spark.xml\")\n",
    "      .option(\"rowTag\", \"row\")\n",
    "      .load(\"../data/nobel_prizes.xml\"))"
   ]
  },
  {
   "cell_type": "code",
   "execution_count": 3,
   "id": "02607022-94ef-4145-b491-92a60bd15905",
   "metadata": {
    "tags": []
   },
   "outputs": [
    {
     "name": "stdout",
     "output_type": "stream",
     "text": [
      "root\n",
      " |-- category: string (nullable = true)\n",
      " |-- laureates: array (nullable = true)\n",
      " |    |-- element: struct (containsNull = true)\n",
      " |    |    |-- firstname: string (nullable = true)\n",
      " |    |    |-- id: long (nullable = true)\n",
      " |    |    |-- motivation: string (nullable = true)\n",
      " |    |    |-- share: long (nullable = true)\n",
      " |    |    |-- surname: string (nullable = true)\n",
      " |-- overallMotivation: string (nullable = true)\n",
      " |-- year: long (nullable = true)\n",
      "\n"
     ]
    }
   ],
   "source": [
    "df.printSchema()"
   ]
  },
  {
   "cell_type": "code",
   "execution_count": 4,
   "id": "e653265c-a151-4917-82ab-ccf8df808fcd",
   "metadata": {
    "tags": []
   },
   "outputs": [
    {
     "name": "stderr",
     "output_type": "stream",
     "text": [
      "[Stage 1:>                                                          (0 + 1) / 1]\r"
     ]
    },
    {
     "name": "stdout",
     "output_type": "stream",
     "text": [
      "+----------+--------------------+--------------------+----+\n",
      "|  category|           laureates|   overallMotivation|year|\n",
      "+----------+--------------------+--------------------+----+\n",
      "| chemistry|[{Carolyn, 1015, ...|                null|2022|\n",
      "| economics|[{Ben, 1021, \"for...|                null|2022|\n",
      "|literature|[{Annie, 1017, \"f...|                null|2022|\n",
      "|     peace|[{Ales, 1018, \"Th...|                null|2022|\n",
      "|   physics|[{Alain, 1012, \"f...|                null|2022|\n",
      "|  medicine|[{Svante, 1011, \"...|                null|2022|\n",
      "| chemistry|[{Benjamin, 1002,...|                null|2021|\n",
      "| economics|[{David, 1007, \"f...|                null|2021|\n",
      "|literature|[{Abdulrazak, 100...|                null|2021|\n",
      "|     peace|[{Maria, 1005, \"f...|                null|2021|\n",
      "|   physics|[{Syukuro, 999, \"...|\"for groundbreaki...|2021|\n",
      "|  medicine|[{David, 997, \"fo...|                null|2021|\n",
      "| chemistry|[{Emmanuelle, 991...|                null|2020|\n",
      "| economics|[{Paul, 995, \"for...|                null|2020|\n",
      "|literature|[{Louise, 993, \"f...|                null|2020|\n",
      "|     peace|[{World Food Prog...|                null|2020|\n",
      "|   physics|[{Roger, 988, \"fo...|                null|2020|\n",
      "|  medicine|[{Harvey, 985, \"f...|                null|2020|\n",
      "| chemistry|[{John, 976, \"for...|                null|2019|\n",
      "| economics|[{Abhijit, 982, \"...|                null|2019|\n",
      "+----------+--------------------+--------------------+----+\n",
      "only showing top 20 rows\n",
      "\n"
     ]
    },
    {
     "name": "stderr",
     "output_type": "stream",
     "text": [
      "                                                                                \r"
     ]
    }
   ],
   "source": [
    "# Display contents of DataFrame\n",
    "df.show()\n",
    "\n",
    "# Alternatively\n",
    "\n",
    "# df.show(50)  # Display first 50 rows\n",
    "# df.show(10, truncate=False)  # Display first 10 rows without truncation"
   ]
  },
  {
   "cell_type": "code",
   "execution_count": 5,
   "id": "b9d7d13b-e302-4e21-a98d-bf28a04f27c5",
   "metadata": {
    "tags": []
   },
   "outputs": [
    {
     "name": "stdout",
     "output_type": "stream",
     "text": [
      "+----------+----+\n",
      "|  category|year|\n",
      "+----------+----+\n",
      "| chemistry|2022|\n",
      "| economics|2022|\n",
      "|literature|2022|\n",
      "|     peace|2022|\n",
      "|   physics|2022|\n",
      "|  medicine|2022|\n",
      "| chemistry|2021|\n",
      "| economics|2021|\n",
      "|literature|2021|\n",
      "|     peace|2021|\n",
      "|   physics|2021|\n",
      "|  medicine|2021|\n",
      "| chemistry|2020|\n",
      "| economics|2020|\n",
      "|literature|2020|\n",
      "|     peace|2020|\n",
      "|   physics|2020|\n",
      "|  medicine|2020|\n",
      "| chemistry|2019|\n",
      "| economics|2019|\n",
      "+----------+----+\n",
      "only showing top 20 rows\n",
      "\n"
     ]
    }
   ],
   "source": [
    "df.select(\"category\", \"year\").show()"
   ]
  },
  {
   "cell_type": "code",
   "execution_count": 6,
   "id": "332a0d6f-b7c7-4c1c-a017-d41d9d884992",
   "metadata": {
    "tags": []
   },
   "outputs": [
    {
     "name": "stdout",
     "output_type": "stream",
     "text": [
      "+----------+----+---------------+\n",
      "|  category|year|laureates[0].id|\n",
      "+----------+----+---------------+\n",
      "| chemistry|2022|           1015|\n",
      "| economics|2022|           1021|\n",
      "|literature|2022|           1017|\n",
      "|     peace|2022|           1018|\n",
      "|   physics|2022|           1012|\n",
      "|  medicine|2022|           1011|\n",
      "| chemistry|2021|           1002|\n",
      "| economics|2021|           1007|\n",
      "|literature|2021|           1004|\n",
      "|     peace|2021|           1005|\n",
      "|   physics|2021|            999|\n",
      "|  medicine|2021|            997|\n",
      "| chemistry|2020|            991|\n",
      "| economics|2020|            995|\n",
      "|literature|2020|            993|\n",
      "|     peace|2020|            994|\n",
      "|   physics|2020|            988|\n",
      "|  medicine|2020|            985|\n",
      "| chemistry|2019|            976|\n",
      "| economics|2019|            982|\n",
      "+----------+----+---------------+\n",
      "only showing top 20 rows\n",
      "\n"
     ]
    }
   ],
   "source": [
    "(df.select(\"category\", \"year\"\n",
    "     , col(\"laureates\").getItem(0).id).show())"
   ]
  },
  {
   "cell_type": "code",
   "execution_count": 8,
   "id": "21cf29f1-1202-40fe-aab3-a0da0ba4593d",
   "metadata": {
    "tags": []
   },
   "outputs": [
    {
     "name": "stdout",
     "output_type": "stream",
     "text": [
      "+----------+----+-----------------+----+--------------------------+-----------+-----+----------------------------------------------------------------------------------------------------------------------------------------------------------------------------------------------------------------------------------------------------------------------------------------------------------------------------------------------------------------------------------------+\n",
      "|category  |year|overallMotivation|id  |firstname                 |surname    |share|motivation                                                                                                                                                                                                                                                                                                                                                                              |\n",
      "+----------+----+-----------------+----+--------------------------+-----------+-----+----------------------------------------------------------------------------------------------------------------------------------------------------------------------------------------------------------------------------------------------------------------------------------------------------------------------------------------------------------------------------------------+\n",
      "|chemistry |2022|null             |1015|Carolyn                   |Bertozzi   |3    |\"for the development of click chemistry and bioorthogonal chemistry\"                                                                                                                                                                                                                                                                                                                    |\n",
      "|chemistry |2022|null             |1016|Morten                    |Meldal     |3    |\"for the development of click chemistry and bioorthogonal chemistry\"                                                                                                                                                                                                                                                                                                                    |\n",
      "|chemistry |2022|null             |743 |Barry                     |Sharpless  |3    |\"for the development of click chemistry and bioorthogonal chemistry\"                                                                                                                                                                                                                                                                                                                    |\n",
      "|economics |2022|null             |1021|Ben                       |Bernanke   |3    |\"for research on banks and financial crises\"                                                                                                                                                                                                                                                                                                                                            |\n",
      "|economics |2022|null             |1022|Douglas                   |Diamond    |3    |\"for research on banks and financial crises\"                                                                                                                                                                                                                                                                                                                                            |\n",
      "|economics |2022|null             |1023|Philip                    |Dybvig     |3    |\"for research on banks and financial crises\"                                                                                                                                                                                                                                                                                                                                            |\n",
      "|literature|2022|null             |1017|Annie                     |Ernaux     |1    |\"for the courage and clinical acuity with which she uncovers the roots, estrangements and  collective restraints of personal memory\"                                                                                                                                                                                                                                                    |\n",
      "|peace     |2022|null             |1018|Ales                      |Bialiatski |3    |\"The Peace Prize laureates represent civil society in their home countries. They have for many years promoted the right to criticise power and protect the fundamental rights of citizens. They have made an outstanding effort to document war crimes, human right abuses and the abuse of power. Together they demonstrate the significance of civil society for peace and democracy.\"|\n",
      "|peace     |2022|null             |1019|Memorial                  |null       |3    |\"The Peace Prize laureates represent civil society in their home countries. They have for many years promoted the right to criticise power and protect the fundamental rights of citizens. They have made an outstanding effort to document war crimes, human right abuses and the abuse of power. Together they demonstrate the significance of civil society for peace and democracy.\"|\n",
      "|peace     |2022|null             |1020|Center for Civil Liberties|null       |3    |\"The Peace Prize laureates represent civil society in their home countries. They have for many years promoted the right to criticise power and protect the fundamental rights of citizens. They have made an outstanding effort to document war crimes, human right abuses and the abuse of power. Together they demonstrate the significance of civil society for peace and democracy.\"|\n",
      "|physics   |2022|null             |1012|Alain                     |Aspect     |3    |\"for experiments with entangled photons, establishing the violation of Bell inequalities and  pioneering quantum information science\"                                                                                                                                                                                                                                                   |\n",
      "|physics   |2022|null             |1013|null                      |null       |3    |\"for experiments with entangled photons, establishing the violation of Bell inequalities and  pioneering quantum information science\"                                                                                                                                                                                                                                                   |\n",
      "|physics   |2022|null             |1014|Anton                     |Zeilinger  |3    |\"for experiments with entangled photons, establishing the violation of Bell inequalities and  pioneering quantum information science\"                                                                                                                                                                                                                                                   |\n",
      "|medicine  |2022|null             |1011|Svante                    |Pääbo      |1    |\"for his discoveries concerning the genomes of extinct hominins and human evolution\"                                                                                                                                                                                                                                                                                                    |\n",
      "|chemistry |2021|null             |1002|Benjamin                  |List       |2    |\"for the development of asymmetric organocatalysis\"                                                                                                                                                                                                                                                                                                                                     |\n",
      "|chemistry |2021|null             |1003|David                     |MacMillan  |2    |\"for the development of asymmetric organocatalysis\"                                                                                                                                                                                                                                                                                                                                     |\n",
      "|economics |2021|null             |1007|David                     |Card       |2    |\"for his empirical contributions to labour economics\"                                                                                                                                                                                                                                                                                                                                   |\n",
      "|economics |2021|null             |1008|Joshua                    |Angrist    |4    |\"for their methodological contributions to the analysis of causal relationships\"                                                                                                                                                                                                                                                                                                        |\n",
      "|economics |2021|null             |1009|Guido                     |Imbens     |4    |\"for their methodological contributions to the analysis of causal relationships\"                                                                                                                                                                                                                                                                                                        |\n",
      "|literature|2021|null             |1004|Abdulrazak                |Gurnah     |1    |\"for his uncompromising and compassionate penetration of the effects of colonialism and the fate of the refugee in the gulf between cultures and continents\"                                                                                                                                                                                                                            |\n",
      "+----------+----+-----------------+----+--------------------------+-----------+-----+----------------------------------------------------------------------------------------------------------------------------------------------------------------------------------------------------------------------------------------------------------------------------------------------------------------------------------------------------------------------------------------+\n",
      "only showing top 20 rows\n",
      "\n"
     ]
    }
   ],
   "source": [
    "df_flattened = (\n",
    "    df\n",
    "    .withColumn(\"laureates\",explode(col(\"laureates\")))\n",
    "    .select(col(\"category\")\n",
    "            , col(\"year\")\n",
    "            , col(\"overallMotivation\")\n",
    "            , col(\"laureates.id\")\n",
    "            , col(\"laureates.firstname\")\n",
    "            , col(\"laureates.surname\")\n",
    "            , col(\"laureates.share\")\n",
    "            , col(\"laureates.motivation\")))\n",
    "\n",
    "df_flattened.show(truncate=False)"
   ]
  },
  {
   "cell_type": "code",
   "execution_count": 9,
   "id": "532ff149-aeb0-4cd1-8f79-b27f47629ed3",
   "metadata": {
    "tags": []
   },
   "outputs": [
    {
     "name": "stdout",
     "output_type": "stream",
     "text": [
      "+----------+--------------------+--------------------+----+\n",
      "|  category|           laureates|   overallMotivation|year|\n",
      "+----------+--------------------+--------------------+----+\n",
      "| chemistry|[{Carolyn, 1015, ...|                null|2022|\n",
      "| economics|[{Ben, 1021, \"for...|                null|2022|\n",
      "|literature|[{Annie, 1017, \"f...|                null|2022|\n",
      "|     peace|[{Ales, 1018, \"Th...|                null|2022|\n",
      "|   physics|[{Alain, 1012, \"f...|                null|2022|\n",
      "|  medicine|[{Svante, 1011, \"...|                null|2022|\n",
      "| chemistry|[{Benjamin, 1002,...|                null|2021|\n",
      "| economics|[{David, 1007, \"f...|                null|2021|\n",
      "|literature|[{Abdulrazak, 100...|                null|2021|\n",
      "|     peace|[{Maria, 1005, \"f...|                null|2021|\n",
      "|   physics|[{Syukuro, 999, \"...|\"for groundbreaki...|2021|\n",
      "|  medicine|[{David, 997, \"fo...|                null|2021|\n",
      "| chemistry|[{Emmanuelle, 991...|                null|2020|\n",
      "| economics|[{Paul, 995, \"for...|                null|2020|\n",
      "|literature|[{Louise, 993, \"f...|                null|2020|\n",
      "|     peace|[{World Food Prog...|                null|2020|\n",
      "|   physics|[{Roger, 988, \"fo...|                null|2020|\n",
      "|  medicine|[{Harvey, 985, \"f...|                null|2020|\n",
      "| chemistry|[{John, 976, \"for...|                null|2019|\n",
      "| economics|[{Abhijit, 982, \"...|                null|2019|\n",
      "+----------+--------------------+--------------------+----+\n",
      "only showing top 20 rows\n",
      "\n"
     ]
    }
   ],
   "source": [
    "from pyspark.sql.types import StructType, StructField, StringType, IntegerType\n",
    "\n",
    "schema = StructType(\n",
    "    [StructField('category', StringType(), True), \n",
    "     StructField('laureates', ArrayType(StructType(\n",
    "         [StructField('firstname', StringType(), True),\n",
    "          StructField('id', StringType(), True), \n",
    "          StructField('motivation', StringType(), True), \n",
    "          StructField('share', StringType(), True), \n",
    "          StructField('surname', StringType(), True)]), True), True),\n",
    "     StructField('overallMotivation', StringType(), True),\n",
    "     StructField('year', IntegerType(), True)])\n",
    "\n",
    "# Read XML file into a DataFrame\n",
    "df_with_schema = (spark.read.format(\"com.databricks.spark.xml\")\n",
    "                  .schema(schema)\n",
    "                  .option(\"rowTag\", \"row\")\n",
    "                  .load(\"../data/nobel_prizes.xml\"))\n",
    "\n",
    "df_with_schema.show()"
   ]
  },
  {
   "cell_type": "code",
   "execution_count": 10,
   "id": "d2f9dab1-bb0f-4330-9c11-2e800e05699c",
   "metadata": {},
   "outputs": [],
   "source": [
    "spark.stop() "
   ]
  },
  {
   "cell_type": "code",
   "execution_count": null,
   "id": "ccd32721-1053-441e-a744-1f8d39c78ffb",
   "metadata": {},
   "outputs": [],
   "source": []
  }
 ],
 "metadata": {
  "kernelspec": {
   "display_name": "Python 3 (ipykernel)",
   "language": "python",
   "name": "python3"
  },
  "language_info": {
   "codemirror_mode": {
    "name": "ipython",
    "version": 3
   },
   "file_extension": ".py",
   "mimetype": "text/x-python",
   "name": "python",
   "nbconvert_exporter": "python",
   "pygments_lexer": "ipython3",
   "version": "3.10.12"
  },
  "vscode": {
   "interpreter": {
    "hash": "916dbcbb3f70747c44a77c7bcd40155683ae19c65e1c03b4aa3499c5328201f1"
   }
  }
 },
 "nbformat": 4,
 "nbformat_minor": 5
}
