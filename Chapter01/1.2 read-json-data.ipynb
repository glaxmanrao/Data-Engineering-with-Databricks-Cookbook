{
 "cells": [
  {
   "cell_type": "markdown",
   "id": "d303e34b-0ebf-4f24-b1cb-be39cea040b9",
   "metadata": {},
   "source": [
    "### Reading json data with an inferred schema"
   ]
  },
  {
   "cell_type": "code",
   "execution_count": 1,
   "id": "f6e19347",
   "metadata": {
    "tags": []
   },
   "outputs": [
    {
     "name": "stderr",
     "output_type": "stream",
     "text": [
      "Setting default log level to \"WARN\".\n",
      "To adjust logging level use sc.setLogLevel(newLevel). For SparkR, use setLogLevel(newLevel).\n",
      "24/01/17 23:02:27 WARN NativeCodeLoader: Unable to load native-hadoop library for your platform... using builtin-java classes where applicable\n"
     ]
    }
   ],
   "source": [
    "from pyspark.sql import SparkSession\n",
    "from pyspark.sql.functions import *\n",
    "\n",
    "spark = (SparkSession.builder\n",
    "         .appName(\"read-json-data\")\n",
    "         .master(\"spark://spark-master:7077\")\n",
    "         .config(\"spark.executor.memory\", \"512m\")\n",
    "         .getOrCreate())\n",
    "\n",
    "spark.sparkContext.setLogLevel(\"ERROR\")"
   ]
  },
  {
   "cell_type": "code",
   "execution_count": 2,
   "id": "df98ff82-9a19-4744-94ca-0d1e2050c7e4",
   "metadata": {
    "tags": []
   },
   "outputs": [
    {
     "name": "stderr",
     "output_type": "stream",
     "text": [
      "                                                                                \r"
     ]
    }
   ],
   "source": [
    "# Read JSON file into a DataFrame\n",
    "df = (spark.read.format(\"json\")\n",
    "      .option(\"multiLine\", \"true\")\n",
    "      .load(\"../data/nobel_prizes.json\"))"
   ]
  },
  {
   "cell_type": "code",
   "execution_count": 3,
   "id": "02607022-94ef-4145-b491-92a60bd15905",
   "metadata": {
    "tags": []
   },
   "outputs": [
    {
     "name": "stdout",
     "output_type": "stream",
     "text": [
      "root\n",
      " |-- category: string (nullable = true)\n",
      " |-- laureates: array (nullable = true)\n",
      " |    |-- element: struct (containsNull = true)\n",
      " |    |    |-- firstname: string (nullable = true)\n",
      " |    |    |-- id: string (nullable = true)\n",
      " |    |    |-- motivation: string (nullable = true)\n",
      " |    |    |-- share: string (nullable = true)\n",
      " |    |    |-- surname: string (nullable = true)\n",
      " |-- overallMotivation: string (nullable = true)\n",
      " |-- year: string (nullable = true)\n",
      "\n"
     ]
    }
   ],
   "source": [
    "df.printSchema()"
   ]
  },
  {
   "cell_type": "code",
   "execution_count": 4,
   "id": "e653265c-a151-4917-82ab-ccf8df808fcd",
   "metadata": {
    "tags": []
   },
   "outputs": [
    {
     "name": "stderr",
     "output_type": "stream",
     "text": [
      "[Stage 1:>                                                          (0 + 1) / 1]\r"
     ]
    },
    {
     "name": "stdout",
     "output_type": "stream",
     "text": [
      "+----------+--------------------+--------------------+----+\n",
      "|  category|           laureates|   overallMotivation|year|\n",
      "+----------+--------------------+--------------------+----+\n",
      "| chemistry|[{Carolyn, 1015, ...|                null|2022|\n",
      "| economics|[{Ben, 1021, \"for...|                null|2022|\n",
      "|literature|[{Annie, 1017, \"f...|                null|2022|\n",
      "|     peace|[{Ales, 1018, \"Th...|                null|2022|\n",
      "|   physics|[{Alain, 1012, \"f...|                null|2022|\n",
      "|  medicine|[{Svante, 1011, \"...|                null|2022|\n",
      "| chemistry|[{Benjamin, 1002,...|                null|2021|\n",
      "| economics|[{David, 1007, \"f...|                null|2021|\n",
      "|literature|[{Abdulrazak, 100...|                null|2021|\n",
      "|     peace|[{Maria, 1005, \"f...|                null|2021|\n",
      "|   physics|[{Syukuro, 999, \"...|\"for groundbreaki...|2021|\n",
      "|  medicine|[{David, 997, \"fo...|                null|2021|\n",
      "| chemistry|[{Emmanuelle, 991...|                null|2020|\n",
      "| economics|[{Paul, 995, \"for...|                null|2020|\n",
      "|literature|[{Louise, 993, \"f...|                null|2020|\n",
      "|     peace|[{World Food Prog...|                null|2020|\n",
      "|   physics|[{Roger, 988, \"fo...|                null|2020|\n",
      "|  medicine|[{Harvey, 985, \"f...|                null|2020|\n",
      "| chemistry|[{John, 976, \"for...|                null|2019|\n",
      "| economics|[{Abhijit, 982, \"...|                null|2019|\n",
      "+----------+--------------------+--------------------+----+\n",
      "only showing top 20 rows\n",
      "\n"
     ]
    },
    {
     "name": "stderr",
     "output_type": "stream",
     "text": [
      "                                                                                \r"
     ]
    }
   ],
   "source": [
    "# Display contents of DataFrame\n",
    "df.show()"
   ]
  },
  {
   "cell_type": "code",
   "execution_count": 5,
   "id": "21cf29f1-1202-40fe-aab3-a0da0ba4593d",
   "metadata": {
    "tags": []
   },
   "outputs": [
    {
     "name": "stdout",
     "output_type": "stream",
     "text": [
      "+----------+----+-----------------+----+--------------------------+-----------+-----+----------------------------------------------------------------------------------------------------------------------------------------------------------------------------------------------------------------------------------------------------------------------------------------------------------------------------------------------------------------------------------------+\n",
      "|category  |year|overallMotivation|id  |firstname                 |surname    |share|motivation                                                                                                                                                                                                                                                                                                                                                                              |\n",
      "+----------+----+-----------------+----+--------------------------+-----------+-----+----------------------------------------------------------------------------------------------------------------------------------------------------------------------------------------------------------------------------------------------------------------------------------------------------------------------------------------------------------------------------------------+\n",
      "|chemistry |2022|null             |1015|Carolyn                   |Bertozzi   |3    |\"for the development of click chemistry and bioorthogonal chemistry\"                                                                                                                                                                                                                                                                                                                    |\n",
      "|chemistry |2022|null             |1016|Morten                    |Meldal     |3    |\"for the development of click chemistry and bioorthogonal chemistry\"                                                                                                                                                                                                                                                                                                                    |\n",
      "|chemistry |2022|null             |743 |Barry                     |Sharpless  |3    |\"for the development of click chemistry and bioorthogonal chemistry\"                                                                                                                                                                                                                                                                                                                    |\n",
      "|economics |2022|null             |1021|Ben                       |Bernanke   |3    |\"for research on banks and financial crises\"                                                                                                                                                                                                                                                                                                                                            |\n",
      "|economics |2022|null             |1022|Douglas                   |Diamond    |3    |\"for research on banks and financial crises\"                                                                                                                                                                                                                                                                                                                                            |\n",
      "|economics |2022|null             |1023|Philip                    |Dybvig     |3    |\"for research on banks and financial crises\"                                                                                                                                                                                                                                                                                                                                            |\n",
      "|literature|2022|null             |1017|Annie                     |Ernaux     |1    |\"for the courage and clinical acuity with which she uncovers the roots, estrangements and  collective restraints of personal memory\"                                                                                                                                                                                                                                                    |\n",
      "|peace     |2022|null             |1018|Ales                      |Bialiatski |3    |\"The Peace Prize laureates represent civil society in their home countries. They have for many years promoted the right to criticise power and protect the fundamental rights of citizens. They have made an outstanding effort to document war crimes, human right abuses and the abuse of power. Together they demonstrate the significance of civil society for peace and democracy.\"|\n",
      "|peace     |2022|null             |1019|Memorial                  |null       |3    |\"The Peace Prize laureates represent civil society in their home countries. They have for many years promoted the right to criticise power and protect the fundamental rights of citizens. They have made an outstanding effort to document war crimes, human right abuses and the abuse of power. Together they demonstrate the significance of civil society for peace and democracy.\"|\n",
      "|peace     |2022|null             |1020|Center for Civil Liberties|null       |3    |\"The Peace Prize laureates represent civil society in their home countries. They have for many years promoted the right to criticise power and protect the fundamental rights of citizens. They have made an outstanding effort to document war crimes, human right abuses and the abuse of power. Together they demonstrate the significance of civil society for peace and democracy.\"|\n",
      "|physics   |2022|null             |1012|Alain                     |Aspect     |3    |\"for experiments with entangled photons, establishing the violation of Bell inequalities and  pioneering quantum information science\"                                                                                                                                                                                                                                                   |\n",
      "|physics   |2022|null             |1013|null                      |null       |3    |\"for experiments with entangled photons, establishing the violation of Bell inequalities and  pioneering quantum information science\"                                                                                                                                                                                                                                                   |\n",
      "|physics   |2022|null             |1014|Anton                     |Zeilinger  |3    |\"for experiments with entangled photons, establishing the violation of Bell inequalities and  pioneering quantum information science\"                                                                                                                                                                                                                                                   |\n",
      "|medicine  |2022|null             |1011|Svante                    |Pääbo      |1    |\"for his discoveries concerning the genomes of extinct hominins and human evolution\"                                                                                                                                                                                                                                                                                                    |\n",
      "|chemistry |2021|null             |1002|Benjamin                  |List       |2    |\"for the development of asymmetric organocatalysis\"                                                                                                                                                                                                                                                                                                                                     |\n",
      "|chemistry |2021|null             |1003|David                     |MacMillan  |2    |\"for the development of asymmetric organocatalysis\"                                                                                                                                                                                                                                                                                                                                     |\n",
      "|economics |2021|null             |1007|David                     |Card       |2    |\"for his empirical contributions to labour economics\"                                                                                                                                                                                                                                                                                                                                   |\n",
      "|economics |2021|null             |1008|Joshua                    |Angrist    |4    |\"for their methodological contributions to the analysis of causal relationships\"                                                                                                                                                                                                                                                                                                        |\n",
      "|economics |2021|null             |1009|Guido                     |Imbens     |4    |\"for their methodological contributions to the analysis of causal relationships\"                                                                                                                                                                                                                                                                                                        |\n",
      "|literature|2021|null             |1004|Abdulrazak                |Gurnah     |1    |\"for his uncompromising and compassionate penetration of the effects of colonialism and the fate of the refugee in the gulf between cultures and continents\"                                                                                                                                                                                                                            |\n",
      "+----------+----+-----------------+----+--------------------------+-----------+-----+----------------------------------------------------------------------------------------------------------------------------------------------------------------------------------------------------------------------------------------------------------------------------------------------------------------------------------------------------------------------------------------+\n",
      "only showing top 20 rows\n",
      "\n"
     ]
    }
   ],
   "source": [
    "df_flattened = (\n",
    "    df\n",
    "    .withColumn(\"laureates\",explode(col(\"laureates\"))) # Explode the laureates array column into rows\n",
    "    .select(col(\"category\")\n",
    "            , col(\"year\")\n",
    "            , col(\"overallMotivation\")\n",
    "            , col(\"laureates.id\")\n",
    "            , col(\"laureates.firstname\")\n",
    "            , col(\"laureates.surname\")\n",
    "            , col(\"laureates.share\")\n",
    "            , col(\"laureates.motivation\"))) # Use dot notion for columns in the STRUCT field\n",
    "\n",
    "df_flattened.show(truncate=False)"
   ]
  },
  {
   "cell_type": "code",
   "execution_count": 6,
   "id": "532ff149-aeb0-4cd1-8f79-b27f47629ed3",
   "metadata": {
    "tags": []
   },
   "outputs": [],
   "source": [
    "from pyspark.sql.types import StructType, StructField, StringType, IntegerType\n",
    "\n",
    "json_schema = StructType(\n",
    "    [StructField('category', StringType(), True),\n",
    "     StructField('laureates', ArrayType(StructType(\n",
    "         [StructField('firstname', StringType(), True), \n",
    "          StructField('id', StringType(), True), \n",
    "          StructField('motivation', StringType(), True), \n",
    "          StructField('share', StringType(), True), \n",
    "          StructField('surname', StringType(), True)\n",
    "          ]), True), True),\n",
    "     StructField('overallMotivation', StringType(), True), \n",
    "     StructField('year', IntegerType(), True)])\n",
    "\n",
    "json_df_with_schema = (\n",
    "    spark.read.format(\"json\")\n",
    "    .schema(json_schema)\n",
    "    .option(\"multiLine\", \"true\")\n",
    "    .option(\"mode\", \"PERMISSIVE\")\n",
    "    .option(\"columnNameOfCorruptRecord\", \"corrupt_record\")\n",
    "    .load(\"../data/nobel_prizes.json\"))"
   ]
  },
  {
   "cell_type": "markdown",
   "id": "e0e89aba-2506-45c0-a9a5-92d123aa4d0a",
   "metadata": {},
   "source": [
    "### `get_json_object()` and `json_tuple()` functions"
   ]
  },
  {
   "cell_type": "code",
   "execution_count": 7,
   "id": "654f8ce8-e4ff-4b77-a339-cb877e80451b",
   "metadata": {
    "tags": []
   },
   "outputs": [
    {
     "name": "stderr",
     "output_type": "stream",
     "text": [
      "[Stage 4:>                                                          (0 + 1) / 1]\r"
     ]
    },
    {
     "name": "stdout",
     "output_type": "stream",
     "text": [
      "+-----+--------+\n",
      "| name|name_str|\n",
      "+-----+--------+\n",
      "|Alice|   Alice|\n",
      "|  Bob|     Bob|\n",
      "+-----+--------+\n",
      "\n"
     ]
    },
    {
     "name": "stderr",
     "output_type": "stream",
     "text": [
      "                                                                                \r"
     ]
    }
   ],
   "source": [
    "from pyspark.sql.functions import get_json_object\n",
    "from pyspark.sql.types import StringType\n",
    "\n",
    "# create a DataFrame with a JSON string column\n",
    "df = spark.createDataFrame([\n",
    "  (1, '{\"name\": \"Alice\", \"age\": 25}'),\n",
    "  (2, '{\"name\": \"Bob\", \"age\": 30}')\n",
    "], [\"id\", \"json_data\"])\n",
    "\n",
    "# extract the \"name\" field from the JSON string column\n",
    "name_df = df.select(get_json_object(\"json_data\", \"$.name\").alias(\"name\"))\n",
    "\n",
    "# cast the extracted value to a string\n",
    "name_str_df = name_df.withColumn(\"name_str\", name_df[\"name\"].cast(StringType()))\n",
    "\n",
    "name_str_df.show()"
   ]
  },
  {
   "cell_type": "code",
   "execution_count": 8,
   "id": "9f8db29f-39b2-4737-99ee-ac186c05a9fa",
   "metadata": {
    "tags": []
   },
   "outputs": [
    {
     "name": "stdout",
     "output_type": "stream",
     "text": [
      "+-----+---+\n",
      "| name|age|\n",
      "+-----+---+\n",
      "|Alice| 25|\n",
      "|  Bob| 30|\n",
      "+-----+---+\n",
      "\n"
     ]
    }
   ],
   "source": [
    "from pyspark.sql.functions import json_tuple\n",
    "\n",
    "# create a DataFrame with a JSON string column\n",
    "df = spark.createDataFrame([\n",
    "  (1, '{\"name\": \"Alice\", \"age\": 25}'),\n",
    "  (2, '{\"name\": \"Bob\", \"age\": 30}')\n",
    "], [\"id\", \"json_data\"])\n",
    "\n",
    "# extract the \"name\" and \"age\" fields from the JSON string column\n",
    "name_age_df = df.select(json_tuple(\"json_data\", \"name\", \"age\").alias(\"name\", \"age\"))\n",
    "\n",
    "name_age_df.show()"
   ]
  },
  {
   "cell_type": "markdown",
   "id": "bb7d5f1d-7aa7-4da4-ae82-b2fa0a5cf279",
   "metadata": {},
   "source": [
    "### `flatten()` and `collect_list()` functions"
   ]
  },
  {
   "cell_type": "code",
   "execution_count": 16,
   "id": "1cdb12ee-d210-4f80-ae4a-499332572645",
   "metadata": {
    "tags": []
   },
   "outputs": [
    {
     "name": "stdout",
     "output_type": "stream",
     "text": [
      "+-------------------------------------------------------+\n",
      "|data                                                   |\n",
      "+-------------------------------------------------------+\n",
      "|[[[7, 8], [9, 10], [11, 12]], [[1, 2], [3, 4], [5, 6]]]|\n",
      "+-------------------------------------------------------+\n",
      "\n"
     ]
    }
   ],
   "source": [
    "from pyspark.sql.functions import flatten, collect_list\n",
    "\n",
    "# create a DataFrame with an array of arrays column\n",
    "df = spark.createDataFrame([\n",
    "  (1, [[1, 2], [3, 4], [5, 6]]),\n",
    "  (2, [[7, 8], [9, 10], [11, 12]])\n",
    "], [\"id\", \"data\"])\n",
    "\n",
    "# use collect_list() function to group by specified columns\n",
    "collect_df = df.select(collect_list(\"data\").alias(\"data\"))\n",
    "collect_df.show(truncate=False)"
   ]
  },
  {
   "cell_type": "code",
   "execution_count": 17,
   "id": "71997d3d-f34d-47f9-9d4a-f8d207e32013",
   "metadata": {},
   "outputs": [
    {
     "name": "stdout",
     "output_type": "stream",
     "text": [
      "+---------------------------------------------------+\n",
      "|merged_data                                        |\n",
      "+---------------------------------------------------+\n",
      "|[[1, 2], [3, 4], [5, 6], [7, 8], [9, 10], [11, 12]]|\n",
      "+---------------------------------------------------+\n",
      "\n"
     ]
    }
   ],
   "source": [
    "# use flatten() function to merge all the elements of the inner arrays\n",
    "flattened_df = collect_df.select(flatten(\"data\").alias(\"merged_data\"))\n",
    "flattened_df.show(truncate=False)"
   ]
  },
  {
   "cell_type": "code",
   "execution_count": 78,
   "id": "c1cab635-901a-4a2c-ae9b-b3bd819099ea",
   "metadata": {
    "tags": []
   },
   "outputs": [
    {
     "name": "stdout",
     "output_type": "stream",
     "text": [
      "+---------------------------------------+\n",
      "|final_data                             |\n",
      "+---------------------------------------+\n",
      "|[[1, 2], [3, 4], [5, 6], [7, 8]]       |\n",
      "|[[9, 10], [11, 12], [13, 14], [15, 16]]|\n",
      "+---------------------------------------+\n",
      "\n"
     ]
    }
   ],
   "source": [
    "from pyspark.sql.functions import explode, flatten, collect_list\n",
    "\n",
    "# create a DataFrame with nested array column\n",
    "df = spark.createDataFrame([\n",
    "  (1, [[[1, 2], [3, 4]], [[5, 6], [7, 8]]]),\n",
    "  (2, [[[9, 10], [11, 12]], [[13, 14], [15, 16]]])\n",
    "], [\"id\", \"data\"])\n",
    "\n",
    "# explode the outermost array to flatten the structure\n",
    "exploded_df = df.select(col(\"id\"),explode(\"data\").alias(\"inner_data\"))\n",
    "\n",
    "\n",
    "# # use collect_list() to group all the inner arrays together\n",
    "grouped_df = exploded_df.groupBy(\"id\").agg(collect_list(\"inner_data\").alias(\"merged_data\"))\n",
    "\n",
    "# # use flatten() to merge all the elements of the inner arrays\n",
    "flattened_df = grouped_df.select(flatten(\"merged_data\").alias(\"final_data\"))\n",
    "\n",
    "flattened_df.show(truncate=False)\n"
   ]
  },
  {
   "cell_type": "code",
   "execution_count": 10,
   "id": "ee251d4c-68b7-4eda-9792-9025ecd35c60",
   "metadata": {},
   "outputs": [],
   "source": [
    "# Stop the Spark Session\n",
    "spark.stop()"
   ]
  },
  {
   "cell_type": "code",
   "execution_count": null,
   "id": "e821b61d-84c1-4edf-9055-5ba0d500fcf0",
   "metadata": {},
   "outputs": [],
   "source": []
  }
 ],
 "metadata": {
  "kernelspec": {
   "display_name": "Python 3 (ipykernel)",
   "language": "python",
   "name": "python3"
  },
  "language_info": {
   "codemirror_mode": {
    "name": "ipython",
    "version": 3
   },
   "file_extension": ".py",
   "mimetype": "text/x-python",
   "name": "python",
   "nbconvert_exporter": "python",
   "pygments_lexer": "ipython3",
   "version": "3.10.12"
  },
  "vscode": {
   "interpreter": {
    "hash": "916dbcbb3f70747c44a77c7bcd40155683ae19c65e1c03b4aa3499c5328201f1"
   }
  }
 },
 "nbformat": 4,
 "nbformat_minor": 5
}
